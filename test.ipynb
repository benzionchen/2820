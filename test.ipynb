{
 "cells": [
  {
   "cell_type": "code",
   "execution_count": 1,
   "id": "5b44ba11",
   "metadata": {},
   "outputs": [
    {
     "name": "stdout",
     "output_type": "stream",
     "text": [
      "Case 1: Independent a_vectors\n",
      "Matrix:\n",
      " [[ 1  0]\n",
      " [ 0  1]\n",
      " [ 2 -1]\n",
      " [ 1  3]]\n",
      "Are c_vectors independent? True\n",
      "\n",
      "Case 2: Dependent a_vectors\n",
      "Matrix:\n",
      " [[ 1  2]\n",
      " [ 2  4]\n",
      " [ 2 -1]\n",
      " [ 1  3]]\n",
      "Are c_vectors independent? True\n"
     ]
    }
   ],
   "source": [
    "import numpy as np\n",
    "\n",
    "def check_linear_independence(matrix):\n",
    "    rank = np.linalg.matrix_rank(matrix)\n",
    "    num_columns = matrix.shape[1]\n",
    "    return rank == num_columns  # True if independent, False if dependent\n",
    "\n",
    "# Example 1: Linearly Independent Case\n",
    "a_vectors = np.array([[1, 0], [0, 1]])  # Independent vectors in R^2\n",
    "b_vectors = np.array([[2, -1], [1, 3]])  # Arbitrary vectors in R^2\n",
    "\n",
    "c_vectors = np.vstack((a_vectors, b_vectors))  # Stack them to create c1, c2\n",
    "print(\"Case 1: Independent a_vectors\")\n",
    "print(\"Matrix:\\n\", c_vectors)\n",
    "print(\"Are c_vectors independent?\", check_linear_independence(c_vectors))  # Should be True\n",
    "\n",
    "# Example 2: Linearly Dependent Case\n",
    "a_vectors_dependent = np.array([[1, 2], [2, 4]])  # Dependent vectors in R^2\n",
    "b_vectors = np.array([[2, -1], [1, 3]])  # Arbitrary vectors in R^2\n",
    "\n",
    "c_vectors_dependent = np.vstack((a_vectors_dependent, b_vectors))\n",
    "print(\"\\nCase 2: Dependent a_vectors\")\n",
    "print(\"Matrix:\\n\", c_vectors_dependent)\n",
    "print(\"Are c_vectors independent?\", check_linear_independence(c_vectors_dependent))  # Should be False\n",
    "\n"
   ]
  },
  {
   "cell_type": "code",
   "execution_count": null,
   "id": "7ad46612",
   "metadata": {},
   "outputs": [],
   "source": []
  }
 ],
 "metadata": {
  "kernelspec": {
   "display_name": "Python 3 (ipykernel)",
   "language": "python",
   "name": "python3"
  },
  "language_info": {
   "codemirror_mode": {
    "name": "ipython",
    "version": 3
   },
   "file_extension": ".py",
   "mimetype": "text/x-python",
   "name": "python",
   "nbconvert_exporter": "python",
   "pygments_lexer": "ipython3",
   "version": "3.9.13"
  }
 },
 "nbformat": 4,
 "nbformat_minor": 5
}
