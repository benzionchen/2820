{
 "cells": [
  {
   "cell_type": "markdown",
   "id": "eb160499",
   "metadata": {},
   "source": [
    "#### Chapter 1.1"
   ]
  },
  {
   "cell_type": "code",
   "execution_count": 6,
   "id": "5808477b",
   "metadata": {
    "scrolled": true
   },
   "outputs": [
    {
     "data": {
      "text/plain": [
       "4"
      ]
     },
     "execution_count": 6,
     "metadata": {},
     "output_type": "execute_result"
    }
   ],
   "source": [
    "# page 2 \n",
    "\n",
    "x = [-1.1, 0.0, 3.6, -7.2] # vectors can be numbers, positive, negative, decimal\n",
    "len(x) # built in counter, basically a summation notation"
   ]
  },
  {
   "cell_type": "code",
   "execution_count": 7,
   "id": "d8072943",
   "metadata": {
    "scrolled": true
   },
   "outputs": [
    {
     "ename": "TypeError",
     "evalue": "can't multiply sequence by non-int of type 'list'",
     "output_type": "error",
     "traceback": [
      "\u001b[1;31m---------------------------------------------------------------------------\u001b[0m",
      "\u001b[1;31mTypeError\u001b[0m                                 Traceback (most recent call last)",
      "\u001b[1;32m~\\AppData\\Local\\Temp\\ipykernel_16144\\3597416476.py\u001b[0m in \u001b[0;36m<module>\u001b[1;34m\u001b[0m\n\u001b[0;32m      1\u001b[0m \u001b[0my\u001b[0m \u001b[1;33m=\u001b[0m \u001b[1;33m[\u001b[0m\u001b[1;36m1\u001b[0m\u001b[1;33m,\u001b[0m \u001b[1;36m0.5\u001b[0m\u001b[1;33m,\u001b[0m \u001b[1;36m0.1\u001b[0m\u001b[1;33m,\u001b[0m \u001b[1;36m2\u001b[0m\u001b[1;33m]\u001b[0m \u001b[1;31m# example vector 2\u001b[0m\u001b[1;33m\u001b[0m\u001b[1;33m\u001b[0m\u001b[0m\n\u001b[0;32m      2\u001b[0m \u001b[1;33m\u001b[0m\u001b[0m\n\u001b[1;32m----> 3\u001b[1;33m \u001b[0mx\u001b[0m\u001b[1;33m*\u001b[0m\u001b[0my\u001b[0m \u001b[1;31m# you can't multiply 2 vectors, and that's reflected in python as well!\u001b[0m\u001b[1;33m\u001b[0m\u001b[1;33m\u001b[0m\u001b[0m\n\u001b[0m",
      "\u001b[1;31mTypeError\u001b[0m: can't multiply sequence by non-int of type 'list'"
     ]
    }
   ],
   "source": [
    "y = [1, 0.5, 0.1, 2] # example vector 2\n",
    "\n",
    "x*y # you can't multiply 2 vectors, and that's reflected in python as well! "
   ]
  },
  {
   "cell_type": "code",
   "execution_count": 8,
   "id": "ff5b6a7b",
   "metadata": {},
   "outputs": [
    {
     "data": {
      "text/plain": [
       "array([ True,  True,  True,  True])"
      ]
     },
     "execution_count": 8,
     "metadata": {},
     "output_type": "execute_result"
    }
   ],
   "source": [
    "import numpy as np\n",
    "\n",
    "# testing for vector equality but trying different examples \n",
    "\n",
    "x = np.array([-1.0, 0.0, 3.6, -7.2])\n",
    "y = np.array([-1, 0, 3.6, -7.20])\n",
    "\n",
    "x == y\n",
    "\n",
    "# so comparing vectors is floating point agnostic? "
   ]
  },
  {
   "cell_type": "code",
   "execution_count": 9,
   "id": "b072e24e",
   "metadata": {
    "scrolled": true
   },
   "outputs": [
    {
     "name": "stderr",
     "output_type": "stream",
     "text": [
      "C:\\Users\\raiu\\AppData\\Local\\Temp\\ipykernel_16144\\137072018.py:3: VisibleDeprecationWarning: Creating an ndarray from ragged nested sequences (which is a list-or-tuple of lists-or-tuples-or ndarrays with different lengths or shapes) is deprecated. If you meant to do this, you must specify 'dtype=object' when creating the ndarray.\n",
      "  a = np.array([1, 2, 3, [3, 4]])\n"
     ]
    },
    {
     "data": {
      "text/plain": [
       "array([1, 4, 9, list([3, 4, 3, 4, 3, 4, 3, 4, 3, 4])], dtype=object)"
      ]
     },
     "execution_count": 9,
     "metadata": {},
     "output_type": "execute_result"
    }
   ],
   "source": [
    "# experimenting with nested vectors in python \n",
    "\n",
    "a = np.array([1, 2, 3, [3, 4]])\n",
    "b = np.array([1, 2, 3, 5])\n",
    "\n",
    "a*b"
   ]
  },
  {
   "cell_type": "code",
   "execution_count": 10,
   "id": "9811b767",
   "metadata": {},
   "outputs": [
    {
     "ename": "ValueError",
     "evalue": "operands could not be broadcast together with shapes (3,) (4,) ",
     "output_type": "error",
     "traceback": [
      "\u001b[1;31m---------------------------------------------------------------------------\u001b[0m",
      "\u001b[1;31mValueError\u001b[0m                                Traceback (most recent call last)",
      "\u001b[1;32m~\\AppData\\Local\\Temp\\ipykernel_16144\\494062773.py\u001b[0m in \u001b[0;36m<module>\u001b[1;34m\u001b[0m\n\u001b[0;32m      4\u001b[0m \u001b[0md\u001b[0m \u001b[1;33m=\u001b[0m \u001b[0mnp\u001b[0m\u001b[1;33m.\u001b[0m\u001b[0marray\u001b[0m\u001b[1;33m(\u001b[0m\u001b[1;33m[\u001b[0m\u001b[1;36m1\u001b[0m\u001b[1;33m,\u001b[0m \u001b[1;36m2\u001b[0m\u001b[1;33m,\u001b[0m \u001b[1;36m3\u001b[0m\u001b[1;33m,\u001b[0m \u001b[1;36m5\u001b[0m\u001b[1;33m]\u001b[0m\u001b[1;33m)\u001b[0m\u001b[1;33m\u001b[0m\u001b[1;33m\u001b[0m\u001b[0m\n\u001b[0;32m      5\u001b[0m \u001b[1;33m\u001b[0m\u001b[0m\n\u001b[1;32m----> 6\u001b[1;33m \u001b[0mc\u001b[0m \u001b[1;33m+\u001b[0m \u001b[0md\u001b[0m\u001b[1;33m\u001b[0m\u001b[1;33m\u001b[0m\u001b[0m\n\u001b[0m",
      "\u001b[1;31mValueError\u001b[0m: operands could not be broadcast together with shapes (3,) (4,) "
     ]
    }
   ],
   "source": [
    "# cannot add different size vectors in python \n",
    "\n",
    "c = np.array([1, 2, 3])\n",
    "d = np.array([1, 2, 3, 5])\n",
    "\n",
    "c + d"
   ]
  },
  {
   "cell_type": "code",
   "execution_count": 11,
   "id": "152eb7ae",
   "metadata": {},
   "outputs": [
    {
     "data": {
      "text/plain": [
       "array([10,  8, 12])"
      ]
     },
     "execution_count": 11,
     "metadata": {},
     "output_type": "execute_result"
    }
   ],
   "source": [
    "# but can just add them together if they're the same size, follows the linear algebra rules \n",
    "c = np.array([1, 2, 3])\n",
    "d = np.array([9, 6, 9])\n",
    "\n",
    "c + d"
   ]
  },
  {
   "cell_type": "code",
   "execution_count": 12,
   "id": "51b1d092",
   "metadata": {},
   "outputs": [
    {
     "name": "stdout",
     "output_type": "stream",
     "text": [
      "[1 2 3 9 6 9]\n"
     ]
    }
   ],
   "source": [
    "# page 6\n",
    "\n",
    "# this is different than concatenate \n",
    "e = np.concatenate((c,d))\n",
    "print(e)"
   ]
  },
  {
   "cell_type": "code",
   "execution_count": 13,
   "id": "123200a1",
   "metadata": {},
   "outputs": [
    {
     "name": "stdout",
     "output_type": "stream",
     "text": [
      "[8 3 2]\n"
     ]
    }
   ],
   "source": [
    "# page 6\n",
    "\n",
    "# vector slicing works to access certain elements in vector\n",
    "# how does this work a little differently than normal python array? \n",
    "# numpy array is wrapped in parantheses before the brackets \n",
    "\n",
    "w = np.array([1,8,3,2,1,9,7])\n",
    "u = w[1:4]\n",
    "print(u)"
   ]
  },
  {
   "cell_type": "code",
   "execution_count": 14,
   "id": "72e5d690",
   "metadata": {},
   "outputs": [
    {
     "name": "stdout",
     "output_type": "stream",
     "text": [
      "[  1   8   3 100 200 300   7]\n"
     ]
    }
   ],
   "source": [
    "w[3:6] = [100, 200, 300]\n",
    "print(w)\n",
    "\n",
    "# why does the output not have commas? is that something with numpy?\n",
    "# we took the original array and replaced i = 3:6 with 3 new elements\n",
    "# notice the extra space between the digits added and original digits?"
   ]
  },
  {
   "cell_type": "code",
   "execution_count": 15,
   "id": "8045045e",
   "metadata": {},
   "outputs": [
    {
     "ename": "ValueError",
     "evalue": "invalid literal for int() with base 10: 'a'",
     "output_type": "error",
     "traceback": [
      "\u001b[1;31m---------------------------------------------------------------------------\u001b[0m",
      "\u001b[1;31mValueError\u001b[0m                                Traceback (most recent call last)",
      "\u001b[1;32m~\\AppData\\Local\\Temp\\ipykernel_16144\\3212277145.py\u001b[0m in \u001b[0;36m<module>\u001b[1;34m\u001b[0m\n\u001b[1;32m----> 1\u001b[1;33m \u001b[0mw\u001b[0m\u001b[1;33m[\u001b[0m\u001b[1;36m3\u001b[0m\u001b[1;33m:\u001b[0m\u001b[1;36m7\u001b[0m\u001b[1;33m]\u001b[0m \u001b[1;33m=\u001b[0m \u001b[1;33m[\u001b[0m\u001b[1;34m'a'\u001b[0m\u001b[1;33m,\u001b[0m \u001b[1;34m'b'\u001b[0m\u001b[1;33m,\u001b[0m \u001b[1;34m'c'\u001b[0m\u001b[1;33m,\u001b[0m \u001b[1;34m'd'\u001b[0m\u001b[1;33m]\u001b[0m\u001b[1;33m\u001b[0m\u001b[1;33m\u001b[0m\u001b[0m\n\u001b[0m\u001b[0;32m      2\u001b[0m \u001b[0mprint\u001b[0m\u001b[1;33m(\u001b[0m\u001b[0mw\u001b[0m\u001b[1;33m)\u001b[0m\u001b[1;33m\u001b[0m\u001b[1;33m\u001b[0m\u001b[0m\n\u001b[0;32m      3\u001b[0m \u001b[1;33m\u001b[0m\u001b[0m\n\u001b[0;32m      4\u001b[0m \u001b[1;31m# cannot be letters since numpy array is numbers?\u001b[0m\u001b[1;33m\u001b[0m\u001b[1;33m\u001b[0m\u001b[0m\n",
      "\u001b[1;31mValueError\u001b[0m: invalid literal for int() with base 10: 'a'"
     ]
    }
   ],
   "source": [
    "w[3:7] = ['a', 'b', 'c', 'd']\n",
    "print(w)\n",
    "\n",
    "# cannot be letters since numpy array is numbers?"
   ]
  },
  {
   "cell_type": "code",
   "execution_count": 16,
   "id": "f3396017",
   "metadata": {},
   "outputs": [
    {
     "name": "stdout",
     "output_type": "stream",
     "text": [
      "[ 1  8  3 99 91 98  0]\n"
     ]
    }
   ],
   "source": [
    "w[3:7] = [99, 91, 98, 0.01]\n",
    "print(w)\n",
    "\n",
    "# must have enough elements to satisfy from 3 -> 7 \n",
    "# why did the last number print as \"0\"? "
   ]
  },
  {
   "cell_type": "markdown",
   "id": "f67a3fd7",
   "metadata": {},
   "source": [
    "#### Chapter 1.2 Vector Addition"
   ]
  },
  {
   "cell_type": "code",
   "execution_count": 17,
   "id": "e806d8f1",
   "metadata": {},
   "outputs": [
    {
     "name": "stdout",
     "output_type": "stream",
     "text": [
      "Sum of arrays: [101 202 303]\n",
      "Difference of arrays: [ -99 -198 -297]\n"
     ]
    }
   ],
   "source": [
    "# page 10\n",
    "\n",
    "import numpy as np\n",
    "x = np.array([1,2,3])\n",
    "y = np.array([100,200,300])\n",
    "print('Sum of arrays:', x+y)\n",
    "print('Difference of arrays:', x-y)"
   ]
  },
  {
   "cell_type": "code",
   "execution_count": 18,
   "id": "5d20c96b",
   "metadata": {},
   "outputs": [
    {
     "name": "stdout",
     "output_type": "stream",
     "text": [
      "Sum of arrays: [2.001 4.99  6.999]\n",
      "Difference of arrays: [0.001 0.99  0.999]\n"
     ]
    }
   ],
   "source": [
    "x = np.array([1.001,2.99,3.999])\n",
    "y = np.array([1,2,3])\n",
    "print('Sum of arrays:', x+y)\n",
    "print('Difference of arrays:', x-y)\n",
    "\n",
    "# earlier, it rounded my digits, but seems like it's accurate now?"
   ]
  },
  {
   "cell_type": "markdown",
   "id": "0892e1d5",
   "metadata": {},
   "source": [
    "#### Chapter 1.3 Scalar Vector Multiplication"
   ]
  },
  {
   "cell_type": "code",
   "execution_count": 19,
   "id": "f5913a97",
   "metadata": {},
   "outputs": [
    {
     "name": "stdout",
     "output_type": "stream",
     "text": [
      "[0.45454545 0.90909091 1.36363636]\n"
     ]
    }
   ],
   "source": [
    "# page 11\n",
    "x = np.array([1,2,3])\n",
    "print(x/2.2)"
   ]
  },
  {
   "cell_type": "code",
   "execution_count": 20,
   "id": "45f984ff",
   "metadata": {},
   "outputs": [
    {
     "name": "stdout",
     "output_type": "stream",
     "text": [
      "[ 83.33333333 166.66666667 250.        ]\n"
     ]
    }
   ],
   "source": [
    "x = np.array([1,2,3])\n",
    "print(x/0.012) \n",
    "\n",
    "# odd formatting, i assume from np\n"
   ]
  },
  {
   "cell_type": "code",
   "execution_count": 21,
   "id": "4bd54987",
   "metadata": {},
   "outputs": [
    {
     "name": "stdout",
     "output_type": "stream",
     "text": [
      "[ 81.81818182 163.63636364 245.45454545]\n"
     ]
    }
   ],
   "source": [
    "x = np.array([1,2,3])\n",
    "print(x/0.0122222222222222222222222222222)\n",
    "\n",
    "# testing for floating point accuracy"
   ]
  },
  {
   "cell_type": "code",
   "execution_count": 22,
   "id": "e0ac63e1",
   "metadata": {},
   "outputs": [
    {
     "name": "stdout",
     "output_type": "stream",
     "text": [
      "[ 81.81818182 163.63636364 245.45454545]\n"
     ]
    }
   ],
   "source": [
    "x = np.array([1,2,3])\n",
    "print(x/0.01222222222222222222222222222224444444444444444444444444444)\n",
    "\n",
    "# why does it seem like it's not that accurate?"
   ]
  },
  {
   "cell_type": "code",
   "execution_count": 23,
   "id": "7d58defb",
   "metadata": {},
   "outputs": [
    {
     "name": "stdout",
     "output_type": "stream",
     "text": [
      "[4. 5.]\n"
     ]
    }
   ],
   "source": [
    "# page 12\n",
    "a = np.array([1,2])\n",
    "b = np.array([3,4])\n",
    "alpha = -0.5\n",
    "beta = 1.5\n",
    "c = alpha*a + beta*b\n",
    "print(c)"
   ]
  },
  {
   "cell_type": "code",
   "execution_count": 24,
   "id": "5ad93512",
   "metadata": {},
   "outputs": [
    {
     "name": "stdout",
     "output_type": "stream",
     "text": [
      "[4. 5.]\n"
     ]
    }
   ],
   "source": [
    "o = np.array([222,2222])\n",
    "p = np.array([2.000000001,0.0000001])\n",
    "triple = -0.005\n",
    "penta = 1.0000505\n",
    "e = triple*o + penta*p\n",
    "print(c)"
   ]
  },
  {
   "cell_type": "code",
   "execution_count": 25,
   "id": "eef9a952",
   "metadata": {},
   "outputs": [
    {
     "data": {
      "text/plain": [
       "array([4., 5.])"
      ]
     },
     "execution_count": 25,
     "metadata": {},
     "output_type": "execute_result"
    }
   ],
   "source": [
    "# take the steps above and turn it into a function \n",
    "def lincomb(coef, vectors): # input is the coefficient + vectors\n",
    "    n = len(vectors[0]) # n = length of first vector \n",
    "    comb = np.zeros(n) # combination is zeros? what is zeros? must be something from numpy library\n",
    "    for i in range(len(vectors)): # for loop to iterate the vector length\n",
    "        comb = comb + coef[i] * vectors[i] # then update teh combination\n",
    "    return comb\n",
    "\n",
    "lincomb([alpha, beta], [a,b]) # the coefficient is passed as list as 1 argument\n",
    "# the vectors is passed as a list for another argument "
   ]
  },
  {
   "cell_type": "code",
   "execution_count": 26,
   "id": "892cc4d6",
   "metadata": {},
   "outputs": [
    {
     "data": {
      "text/plain": [
       "array([6.88888689, 8.44444178])"
      ]
     },
     "execution_count": 26,
     "metadata": {},
     "output_type": "execute_result"
    }
   ],
   "source": [
    "# experimenting with different number to see how this changes the linear comb result\n",
    "\n",
    "r = np.array([1,2])\n",
    "t = np.array([3,4])\n",
    "alpha = -1.111111111\n",
    "beta = 2.666666\n",
    "\n",
    "lincomb([alpha, beta], [a,b])\n",
    "\n",
    "# comb = comb + coef[i] * vectors[i] <-- this is the bulk of the logic"
   ]
  },
  {
   "cell_type": "markdown",
   "id": "7c26b497",
   "metadata": {},
   "source": [
    "#### Chapter 1.4 Inner Product"
   ]
  },
  {
   "cell_type": "code",
   "execution_count": 27,
   "id": "94c9f2c0",
   "metadata": {},
   "outputs": [
    {
     "name": "stdout",
     "output_type": "stream",
     "text": [
      "-7\n"
     ]
    }
   ],
   "source": [
    "# page 14 \n",
    "\n",
    "import numpy as np\n",
    "x = np.array([-1,2,2])\n",
    "y = np.array([1,0,-3])\n",
    "print(np.inner(x,y))\n",
    "\n",
    "# inner product is already a method in numpy! don't have to rebuild from scratch every time"
   ]
  },
  {
   "cell_type": "code",
   "execution_count": 28,
   "id": "6cf2a540",
   "metadata": {},
   "outputs": [
    {
     "data": {
      "text/plain": [
       "-7"
      ]
     },
     "execution_count": 28,
     "metadata": {},
     "output_type": "execute_result"
    }
   ],
   "source": [
    "# page 14\n",
    "\n",
    "x = np.array([-1,2,2])\n",
    "y = np.array([1,0,-3])\n",
    "x @ y \n",
    "\n",
    "# \"@\" is used to perform inner product on numpy arrays, but they have to be in np.array format"
   ]
  },
  {
   "cell_type": "code",
   "execution_count": 29,
   "id": "ba42dd51",
   "metadata": {},
   "outputs": [
    {
     "data": {
      "text/plain": [
       "-3.5"
      ]
     },
     "execution_count": 29,
     "metadata": {},
     "output_type": "execute_result"
    }
   ],
   "source": [
    "(x/2)@ y\n",
    "\n",
    "# can do any operation before inner product\n",
    "# treat this like any other math arithmetic and follows PEMDAS order "
   ]
  },
  {
   "cell_type": "markdown",
   "id": "1c0fd2d2",
   "metadata": {},
   "source": [
    "#### Chapter 1.5 Complexity of Vector Computation"
   ]
  },
  {
   "cell_type": "code",
   "execution_count": 30,
   "id": "3f9dfb3b",
   "metadata": {},
   "outputs": [
    {
     "name": "stdout",
     "output_type": "stream",
     "text": [
      "1.1102230246251565e-16\n"
     ]
    }
   ],
   "source": [
    "# page 15 \n",
    "\n",
    "import numpy as np\n",
    "a = np.random.random()\n",
    "b = np.random.random()\n",
    "lhs = (a+b) * (a-b)\n",
    "rhs = a**2 - b**2\n",
    "print(lhs - rhs)\n",
    "\n",
    "# the left hand side and the right hand side are not exactly perfectly equal \n",
    "# and this is due to the # of floating point operations (and how it rounds off\n",
    "# errors)\n",
    "\n",
    "# this is super relevant to what im doing as my full-time job because we're\n",
    "# building hardware to process FP8 on ASIC dedicated to transformers"
   ]
  },
  {
   "cell_type": "code",
   "execution_count": 31,
   "id": "b7477630",
   "metadata": {},
   "outputs": [
    {
     "name": "stdout",
     "output_type": "stream",
     "text": [
      "0.0004971027374267578\n"
     ]
    }
   ],
   "source": [
    "# can compare complexity\n",
    "\n",
    "import numpy as np\n",
    "import time\n",
    "a = np.random.random(10**5)\n",
    "\n",
    "b = np.random.random(10**5)\n",
    "start = time.time()\n",
    "a @ b\n",
    "end = time.time()\n",
    "print(end - start)\n",
    "\n",
    "# this is supposed to be \"0.0006489753723144531\""
   ]
  },
  {
   "cell_type": "code",
   "execution_count": 32,
   "id": "5df2444e",
   "metadata": {},
   "outputs": [
    {
     "name": "stdout",
     "output_type": "stream",
     "text": [
      "0.0005202293395996094\n"
     ]
    }
   ],
   "source": [
    "start = time.time()\n",
    "a @ b\n",
    "end = time.time()\n",
    "print(end - start)\n",
    "\n",
    "# this is supposed to be \"0.0001862049102783203\" according to the book, but it rounded down? "
   ]
  },
  {
   "cell_type": "markdown",
   "id": "d4dbf56c",
   "metadata": {},
   "source": [
    "The first inner product, of vectors of length 105\n",
    ", takes around 0.0006 seconds. This can\n",
    "be predicted by the complexity of the inner product, which is 2n−1 flops. The computer\n",
    "on which the computations were done is capable of around 1 Gflop/s. These timings,\n",
    "and the estimate of computer speed, are very crude"
   ]
  },
  {
   "cell_type": "code",
   "execution_count": 33,
   "id": "4a24609f",
   "metadata": {},
   "outputs": [
    {
     "name": "stdout",
     "output_type": "stream",
     "text": [
      "NumPy dot product time: 0.003478 seconds\n",
      "Manual dot product time: 1.498940 seconds\n",
      "Results match: True\n"
     ]
    }
   ],
   "source": [
    "# re-writing the code above in more clearer way to experiment\n",
    "\n",
    "# generate two random arrays\n",
    "aa = np.random.random(10**7)\n",
    "bb = np.random.random(10**7)\n",
    "\n",
    "# using the numpy @ operator\n",
    "start = time.time()\n",
    "result_numpy = aa @ bb\n",
    "end = time.time()\n",
    "print(f\"NumPy dot product time: {end - start:.6f} seconds\")\n",
    "\n",
    "# manual implementation of the dot product\n",
    "start = time.time()\n",
    "result_manual = sum(aa[i] * bb[i] for i in range(len(aa)))\n",
    "end = time.time()\n",
    "print(f\"Manual dot product time: {end - start:.6f} seconds\")\n",
    "\n",
    "# check if the results are the same\n",
    "print(f\"Results match: {np.allclose(result_numpy, result_manual)}\")"
   ]
  },
  {
   "cell_type": "markdown",
   "id": "f18e64fc",
   "metadata": {},
   "source": [
    "Theoretically, the dot product has a time complexity of \n",
    "𝑂\n",
    "(\n",
    "𝑛\n",
    ")\n",
    "O(n), where \n",
    "𝑛\n",
    "n is the size of the vectors.\n",
    "However, real-world performance depends on implementation details, such as how the computation is optimized at the hardware and software level. By comparing methods:\n",
    "You see how libraries like NumPy leverage optimized C-based routines (e.g., BLAS) to achieve significant speedups.\n",
    "This shows how theoretical complexity does not always reflect real-world runtime due to optimizations."
   ]
  },
  {
   "cell_type": "markdown",
   "id": "2c026ba7",
   "metadata": {},
   "source": [
    "In data science, machine learning, or physics simulations, computations often involve millions (or billions) of elements. For example:\n",
    "training large machine learning models often involves dot products between massive vectors (e.g., weights and input features).\n",
    "Understanding why optimized libraries like NumPy perform better helps you choose tools that can handle scalability efficiently."
   ]
  }
 ],
 "metadata": {
  "kernelspec": {
   "display_name": "Python 3 (ipykernel)",
   "language": "python",
   "name": "python3"
  },
  "language_info": {
   "codemirror_mode": {
    "name": "ipython",
    "version": 3
   },
   "file_extension": ".py",
   "mimetype": "text/x-python",
   "name": "python",
   "nbconvert_exporter": "python",
   "pygments_lexer": "ipython3",
   "version": "3.9.13"
  }
 },
 "nbformat": 4,
 "nbformat_minor": 5
}
